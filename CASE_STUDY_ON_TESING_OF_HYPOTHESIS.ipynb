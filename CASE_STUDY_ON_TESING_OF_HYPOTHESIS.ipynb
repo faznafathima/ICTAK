{
  "nbformat": 4,
  "nbformat_minor": 0,
  "metadata": {
    "colab": {
      "provenance": [],
      "mount_file_id": "1W5QYgXKla8df4JmMkLna-fZCiF7o2Mxj",
      "authorship_tag": "ABX9TyM1AZn/a3VGCzm15CNuCHKk",
      "include_colab_link": true
    },
    "kernelspec": {
      "name": "python3",
      "display_name": "Python 3"
    },
    "language_info": {
      "name": "python"
    }
  },
  "cells": [
    {
      "cell_type": "markdown",
      "metadata": {
        "id": "view-in-github",
        "colab_type": "text"
      },
      "source": [
        "<a href=\"https://colab.research.google.com/github/faznafathima/ICTAK/blob/main/CASE_STUDY_ON_TESING_OF_HYPOTHESIS.ipynb\" target=\"_parent\"><img src=\"https://colab.research.google.com/assets/colab-badge.svg\" alt=\"Open In Colab\"/></a>"
      ]
    },
    {
      "cell_type": "markdown",
      "source": [
        "# **CASE STUDY ON TESTING OF HYPOTHESIS**\n",
        "\n",
        "Data: Sales_add.csv\n",
        "\n",
        "\n",
        "\n",
        "---\n",
        "\n",
        "\n",
        "\n",
        "---\n",
        "\n",
        "\n",
        "\n",
        "\n",
        "\n"
      ],
      "metadata": {
        "id": "59itCxISm7LN"
      }
    },
    {
      "cell_type": "markdown",
      "source": [
        "## **IMPORTING NECESSARY LIBRARIES**"
      ],
      "metadata": {
        "id": "Cf0CY3j1mrSj"
      }
    },
    {
      "cell_type": "code",
      "execution_count": 4,
      "metadata": {
        "id": "Q7NlrrjSgbza"
      },
      "outputs": [],
      "source": [
        "import pandas as pd\n",
        "import numpy as np\n",
        "import scipy.stats as stats"
      ]
    },
    {
      "cell_type": "markdown",
      "source": [
        "## **READ THE DATA**"
      ],
      "metadata": {
        "id": "AVoT0oQomy8l"
      }
    },
    {
      "cell_type": "code",
      "source": [
        "data=pd.read_csv(r\"/content/drive/MyDrive/Sales_add.csv\")\n",
        "data"
      ],
      "metadata": {
        "colab": {
          "base_uri": "https://localhost:8080/",
          "height": 739
        },
        "id": "ARdzbogNgwes",
        "outputId": "3810273b-e539-4652-a0fa-b623d228de9f"
      },
      "execution_count": 3,
      "outputs": [
        {
          "output_type": "execute_result",
          "data": {
            "text/plain": [
              "       Month      Region      Manager  Sales_before_digital_add(in $)  \\\n",
              "0    Month-1  Region - A  Manager - A                          132921   \n",
              "1    Month-2  Region - A  Manager - C                          149559   \n",
              "2    Month-3  Region - B  Manager - A                          146278   \n",
              "3    Month-4  Region - B  Manager - B                          152167   \n",
              "4    Month-5  Region - C  Manager - B                          159525   \n",
              "5    Month-6  Region - A  Manager - B                          137163   \n",
              "6    Month-7  Region - C  Manager - C                          130625   \n",
              "7    Month-8  Region - A  Manager - A                          131140   \n",
              "8    Month-9  Region - B  Manager - C                          171259   \n",
              "9   Month-10  Region - C  Manager - B                          141956   \n",
              "10  Month-11  Region - B  Manager - C                          159339   \n",
              "11  Month-12  Region - A  Manager - A                          178939   \n",
              "12  Month-13  Region - B  Manager - A                          145062   \n",
              "13  Month-14  Region - A  Manager - A                          151514   \n",
              "14  Month-15  Region - C  Manager - A                          147463   \n",
              "15  Month-16  Region - A  Manager - B                          177195   \n",
              "16  Month-17  Region - A  Manager - C                          140862   \n",
              "17  Month-18  Region - C  Manager - B                          167996   \n",
              "18  Month-19  Region - B  Manager - A                          132135   \n",
              "19  Month-20  Region - A  Manager - B                          152493   \n",
              "20  Month-21  Region - B  Manager - A                          147425   \n",
              "21  Month-22  Region - A  Manager - C                          130263   \n",
              "\n",
              "    Sales_After_digital_add(in $)  \n",
              "0                          270390  \n",
              "1                          223334  \n",
              "2                          244243  \n",
              "3                          231808  \n",
              "4                          258402  \n",
              "5                          256948  \n",
              "6                          222106  \n",
              "7                          230637  \n",
              "8                          226261  \n",
              "9                          193735  \n",
              "10                         203175  \n",
              "11                         276279  \n",
              "12                         205180  \n",
              "13                         253131  \n",
              "14                         229336  \n",
              "15                         187305  \n",
              "16                         234908  \n",
              "17                         191517  \n",
              "18                         227040  \n",
              "19                         212579  \n",
              "20                         263388  \n",
              "21                         243020  "
            ],
            "text/html": [
              "\n",
              "  <div id=\"df-f64f87eb-1926-4c7b-9230-dfdab60a2bf0\">\n",
              "    <div class=\"colab-df-container\">\n",
              "      <div>\n",
              "<style scoped>\n",
              "    .dataframe tbody tr th:only-of-type {\n",
              "        vertical-align: middle;\n",
              "    }\n",
              "\n",
              "    .dataframe tbody tr th {\n",
              "        vertical-align: top;\n",
              "    }\n",
              "\n",
              "    .dataframe thead th {\n",
              "        text-align: right;\n",
              "    }\n",
              "</style>\n",
              "<table border=\"1\" class=\"dataframe\">\n",
              "  <thead>\n",
              "    <tr style=\"text-align: right;\">\n",
              "      <th></th>\n",
              "      <th>Month</th>\n",
              "      <th>Region</th>\n",
              "      <th>Manager</th>\n",
              "      <th>Sales_before_digital_add(in $)</th>\n",
              "      <th>Sales_After_digital_add(in $)</th>\n",
              "    </tr>\n",
              "  </thead>\n",
              "  <tbody>\n",
              "    <tr>\n",
              "      <th>0</th>\n",
              "      <td>Month-1</td>\n",
              "      <td>Region - A</td>\n",
              "      <td>Manager - A</td>\n",
              "      <td>132921</td>\n",
              "      <td>270390</td>\n",
              "    </tr>\n",
              "    <tr>\n",
              "      <th>1</th>\n",
              "      <td>Month-2</td>\n",
              "      <td>Region - A</td>\n",
              "      <td>Manager - C</td>\n",
              "      <td>149559</td>\n",
              "      <td>223334</td>\n",
              "    </tr>\n",
              "    <tr>\n",
              "      <th>2</th>\n",
              "      <td>Month-3</td>\n",
              "      <td>Region - B</td>\n",
              "      <td>Manager - A</td>\n",
              "      <td>146278</td>\n",
              "      <td>244243</td>\n",
              "    </tr>\n",
              "    <tr>\n",
              "      <th>3</th>\n",
              "      <td>Month-4</td>\n",
              "      <td>Region - B</td>\n",
              "      <td>Manager - B</td>\n",
              "      <td>152167</td>\n",
              "      <td>231808</td>\n",
              "    </tr>\n",
              "    <tr>\n",
              "      <th>4</th>\n",
              "      <td>Month-5</td>\n",
              "      <td>Region - C</td>\n",
              "      <td>Manager - B</td>\n",
              "      <td>159525</td>\n",
              "      <td>258402</td>\n",
              "    </tr>\n",
              "    <tr>\n",
              "      <th>5</th>\n",
              "      <td>Month-6</td>\n",
              "      <td>Region - A</td>\n",
              "      <td>Manager - B</td>\n",
              "      <td>137163</td>\n",
              "      <td>256948</td>\n",
              "    </tr>\n",
              "    <tr>\n",
              "      <th>6</th>\n",
              "      <td>Month-7</td>\n",
              "      <td>Region - C</td>\n",
              "      <td>Manager - C</td>\n",
              "      <td>130625</td>\n",
              "      <td>222106</td>\n",
              "    </tr>\n",
              "    <tr>\n",
              "      <th>7</th>\n",
              "      <td>Month-8</td>\n",
              "      <td>Region - A</td>\n",
              "      <td>Manager - A</td>\n",
              "      <td>131140</td>\n",
              "      <td>230637</td>\n",
              "    </tr>\n",
              "    <tr>\n",
              "      <th>8</th>\n",
              "      <td>Month-9</td>\n",
              "      <td>Region - B</td>\n",
              "      <td>Manager - C</td>\n",
              "      <td>171259</td>\n",
              "      <td>226261</td>\n",
              "    </tr>\n",
              "    <tr>\n",
              "      <th>9</th>\n",
              "      <td>Month-10</td>\n",
              "      <td>Region - C</td>\n",
              "      <td>Manager - B</td>\n",
              "      <td>141956</td>\n",
              "      <td>193735</td>\n",
              "    </tr>\n",
              "    <tr>\n",
              "      <th>10</th>\n",
              "      <td>Month-11</td>\n",
              "      <td>Region - B</td>\n",
              "      <td>Manager - C</td>\n",
              "      <td>159339</td>\n",
              "      <td>203175</td>\n",
              "    </tr>\n",
              "    <tr>\n",
              "      <th>11</th>\n",
              "      <td>Month-12</td>\n",
              "      <td>Region - A</td>\n",
              "      <td>Manager - A</td>\n",
              "      <td>178939</td>\n",
              "      <td>276279</td>\n",
              "    </tr>\n",
              "    <tr>\n",
              "      <th>12</th>\n",
              "      <td>Month-13</td>\n",
              "      <td>Region - B</td>\n",
              "      <td>Manager - A</td>\n",
              "      <td>145062</td>\n",
              "      <td>205180</td>\n",
              "    </tr>\n",
              "    <tr>\n",
              "      <th>13</th>\n",
              "      <td>Month-14</td>\n",
              "      <td>Region - A</td>\n",
              "      <td>Manager - A</td>\n",
              "      <td>151514</td>\n",
              "      <td>253131</td>\n",
              "    </tr>\n",
              "    <tr>\n",
              "      <th>14</th>\n",
              "      <td>Month-15</td>\n",
              "      <td>Region - C</td>\n",
              "      <td>Manager - A</td>\n",
              "      <td>147463</td>\n",
              "      <td>229336</td>\n",
              "    </tr>\n",
              "    <tr>\n",
              "      <th>15</th>\n",
              "      <td>Month-16</td>\n",
              "      <td>Region - A</td>\n",
              "      <td>Manager - B</td>\n",
              "      <td>177195</td>\n",
              "      <td>187305</td>\n",
              "    </tr>\n",
              "    <tr>\n",
              "      <th>16</th>\n",
              "      <td>Month-17</td>\n",
              "      <td>Region - A</td>\n",
              "      <td>Manager - C</td>\n",
              "      <td>140862</td>\n",
              "      <td>234908</td>\n",
              "    </tr>\n",
              "    <tr>\n",
              "      <th>17</th>\n",
              "      <td>Month-18</td>\n",
              "      <td>Region - C</td>\n",
              "      <td>Manager - B</td>\n",
              "      <td>167996</td>\n",
              "      <td>191517</td>\n",
              "    </tr>\n",
              "    <tr>\n",
              "      <th>18</th>\n",
              "      <td>Month-19</td>\n",
              "      <td>Region - B</td>\n",
              "      <td>Manager - A</td>\n",
              "      <td>132135</td>\n",
              "      <td>227040</td>\n",
              "    </tr>\n",
              "    <tr>\n",
              "      <th>19</th>\n",
              "      <td>Month-20</td>\n",
              "      <td>Region - A</td>\n",
              "      <td>Manager - B</td>\n",
              "      <td>152493</td>\n",
              "      <td>212579</td>\n",
              "    </tr>\n",
              "    <tr>\n",
              "      <th>20</th>\n",
              "      <td>Month-21</td>\n",
              "      <td>Region - B</td>\n",
              "      <td>Manager - A</td>\n",
              "      <td>147425</td>\n",
              "      <td>263388</td>\n",
              "    </tr>\n",
              "    <tr>\n",
              "      <th>21</th>\n",
              "      <td>Month-22</td>\n",
              "      <td>Region - A</td>\n",
              "      <td>Manager - C</td>\n",
              "      <td>130263</td>\n",
              "      <td>243020</td>\n",
              "    </tr>\n",
              "  </tbody>\n",
              "</table>\n",
              "</div>\n",
              "      <button class=\"colab-df-convert\" onclick=\"convertToInteractive('df-f64f87eb-1926-4c7b-9230-dfdab60a2bf0')\"\n",
              "              title=\"Convert this dataframe to an interactive table.\"\n",
              "              style=\"display:none;\">\n",
              "        \n",
              "  <svg xmlns=\"http://www.w3.org/2000/svg\" height=\"24px\"viewBox=\"0 0 24 24\"\n",
              "       width=\"24px\">\n",
              "    <path d=\"M0 0h24v24H0V0z\" fill=\"none\"/>\n",
              "    <path d=\"M18.56 5.44l.94 2.06.94-2.06 2.06-.94-2.06-.94-.94-2.06-.94 2.06-2.06.94zm-11 1L8.5 8.5l.94-2.06 2.06-.94-2.06-.94L8.5 2.5l-.94 2.06-2.06.94zm10 10l.94 2.06.94-2.06 2.06-.94-2.06-.94-.94-2.06-.94 2.06-2.06.94z\"/><path d=\"M17.41 7.96l-1.37-1.37c-.4-.4-.92-.59-1.43-.59-.52 0-1.04.2-1.43.59L10.3 9.45l-7.72 7.72c-.78.78-.78 2.05 0 2.83L4 21.41c.39.39.9.59 1.41.59.51 0 1.02-.2 1.41-.59l7.78-7.78 2.81-2.81c.8-.78.8-2.07 0-2.86zM5.41 20L4 18.59l7.72-7.72 1.47 1.35L5.41 20z\"/>\n",
              "  </svg>\n",
              "      </button>\n",
              "      \n",
              "  <style>\n",
              "    .colab-df-container {\n",
              "      display:flex;\n",
              "      flex-wrap:wrap;\n",
              "      gap: 12px;\n",
              "    }\n",
              "\n",
              "    .colab-df-convert {\n",
              "      background-color: #E8F0FE;\n",
              "      border: none;\n",
              "      border-radius: 50%;\n",
              "      cursor: pointer;\n",
              "      display: none;\n",
              "      fill: #1967D2;\n",
              "      height: 32px;\n",
              "      padding: 0 0 0 0;\n",
              "      width: 32px;\n",
              "    }\n",
              "\n",
              "    .colab-df-convert:hover {\n",
              "      background-color: #E2EBFA;\n",
              "      box-shadow: 0px 1px 2px rgba(60, 64, 67, 0.3), 0px 1px 3px 1px rgba(60, 64, 67, 0.15);\n",
              "      fill: #174EA6;\n",
              "    }\n",
              "\n",
              "    [theme=dark] .colab-df-convert {\n",
              "      background-color: #3B4455;\n",
              "      fill: #D2E3FC;\n",
              "    }\n",
              "\n",
              "    [theme=dark] .colab-df-convert:hover {\n",
              "      background-color: #434B5C;\n",
              "      box-shadow: 0px 1px 3px 1px rgba(0, 0, 0, 0.15);\n",
              "      filter: drop-shadow(0px 1px 2px rgba(0, 0, 0, 0.3));\n",
              "      fill: #FFFFFF;\n",
              "    }\n",
              "  </style>\n",
              "\n",
              "      <script>\n",
              "        const buttonEl =\n",
              "          document.querySelector('#df-f64f87eb-1926-4c7b-9230-dfdab60a2bf0 button.colab-df-convert');\n",
              "        buttonEl.style.display =\n",
              "          google.colab.kernel.accessAllowed ? 'block' : 'none';\n",
              "\n",
              "        async function convertToInteractive(key) {\n",
              "          const element = document.querySelector('#df-f64f87eb-1926-4c7b-9230-dfdab60a2bf0');\n",
              "          const dataTable =\n",
              "            await google.colab.kernel.invokeFunction('convertToInteractive',\n",
              "                                                     [key], {});\n",
              "          if (!dataTable) return;\n",
              "\n",
              "          const docLinkHtml = 'Like what you see? Visit the ' +\n",
              "            '<a target=\"_blank\" href=https://colab.research.google.com/notebooks/data_table.ipynb>data table notebook</a>'\n",
              "            + ' to learn more about interactive tables.';\n",
              "          element.innerHTML = '';\n",
              "          dataTable['output_type'] = 'display_data';\n",
              "          await google.colab.output.renderOutput(dataTable, element);\n",
              "          const docLink = document.createElement('div');\n",
              "          docLink.innerHTML = docLinkHtml;\n",
              "          element.appendChild(docLink);\n",
              "        }\n",
              "      </script>\n",
              "    </div>\n",
              "  </div>\n",
              "  "
            ]
          },
          "metadata": {},
          "execution_count": 3
        }
      ]
    },
    {
      "cell_type": "markdown",
      "source": [
        "To analyze the given data and address the company's study questions, we can perform hypothesis tests and explore the dependency between the features \"Region\" and \"Manager.\" "
      ],
      "metadata": {
        "id": "h5MrIbcPivYS"
      }
    },
    {
      "cell_type": "markdown",
      "source": [
        "# **Question 1: Clarifying whether there is any increase in sales after stepping into digital marketing.**"
      ],
      "metadata": {
        "id": "6b0FmDm5jMR7"
      }
    },
    {
      "cell_type": "code",
      "source": [
        "# we can perform a hypothesis test comparing the sales before and after the digital marketing campaign. \n",
        "# we'll use a paired t-test to determine if there is a significant difference in the means.\n",
        "\n",
        "# Perform paired t-test\n",
        "t_statistic, p_value = stats.ttest_rel(data['Sales_before_digital_add(in $)'], data['Sales_After_digital_add(in $)'])\n",
        "\n",
        "# Check the p-value\n",
        "print(p_value)\n",
        "if p_value < 0.05:\n",
        "    result = \"There is a significant increase in sales after stepping into digital marketing.\"\n",
        "else:\n",
        "    result = \"There is no significant increase in sales after stepping into digital marketing.\"\n",
        "\n",
        "print(result)\n"
      ],
      "metadata": {
        "colab": {
          "base_uri": "https://localhost:8080/"
        },
        "id": "6oQzTYerhRoB",
        "outputId": "545c6fad-37db-44fc-ae6c-24cddd800fdb"
      },
      "execution_count": 6,
      "outputs": [
        {
          "output_type": "stream",
          "name": "stdout",
          "text": [
            "6.336667004575778e-11\n",
            "There is a significant increase in sales after stepping into digital marketing.\n"
          ]
        }
      ]
    },
    {
      "cell_type": "markdown",
      "source": [
        "Based on the paired t-test results, with a significance level of 0.05, we can conclude that there is a **significant increase in sales after stepping into digital marketing**. The extremely small p-value suggests strong evidence against the null hypothesis, indicating that the mean sales before and after the digital marketing campaign are significantly different. This implies that the company's investment in digital marketing has had a positive impact on sales."
      ],
      "metadata": {
        "id": "B-6-ieamjigq"
      }
    },
    {
      "cell_type": "markdown",
      "source": [
        "# **Question 2: Checking whether there is any dependency between the features \"Region\" and \"Manager.\"**"
      ],
      "metadata": {
        "id": "ukkEtol-kqQv"
      }
    },
    {
      "cell_type": "markdown",
      "source": [
        "To analyze the dependency between \"Region\" and \"Manager,\" we can perform a chi-square test of independence. This test will help determine if there is a significant association between the two categorical variables."
      ],
      "metadata": {
        "id": "HEu6XsqPk4vv"
      }
    },
    {
      "cell_type": "code",
      "source": [
        "# Create a contingency table\n",
        "contingency_table = pd.crosstab(data['Region'], data['Manager'])\n",
        "\n",
        "# Perform chi-square test of independence\n",
        "chi2_stat, p_value, _, _ = stats.chi2_contingency(contingency_table)\n",
        "\n",
        "# Check the p-value\n",
        "print(p_value)\n",
        "if p_value < 0.05:\n",
        "    result = \"There is a significant dependency between Region and Manager.\"\n",
        "else:\n",
        "    result = \"There is no significant dependency between Region and Manager.\"\n",
        "\n",
        "print(result)\n"
      ],
      "metadata": {
        "colab": {
          "base_uri": "https://localhost:8080/"
        },
        "id": "s6TSQd4ojg0g",
        "outputId": "f502392e-c9aa-4d24-e5de-4d353b8c3b32"
      },
      "execution_count": 7,
      "outputs": [
        {
          "output_type": "stream",
          "name": "stdout",
          "text": [
            "0.5493991051158094\n",
            "There is no significant dependency between Region and Manager.\n"
          ]
        }
      ]
    },
    {
      "cell_type": "markdown",
      "source": [
        "Based on the chi-square test of independence results, with a significance level of 0.05, we do not have sufficient evidence to conclude that there is a significant dependency between the Region and Manager variables. The p-value suggests that the observed differences in the distribution of managers across regions could be due to random chance. Hence, we fail to reject the null hypothesis of independence, indicating that there is **no significant association between the region and manager** variables in terms of the distribution of data.\n",
        "This suggests that the choice of manager does not appear to be influenced by the region in which they are assigned."
      ],
      "metadata": {
        "id": "eihVs0IflIUZ"
      }
    },
    {
      "cell_type": "code",
      "source": [
        "# Create a contingency table\n",
        "contingency_table = pd.crosstab(data['Region'], data['Manager'])\n",
        "print(contingency_table)\n"
      ],
      "metadata": {
        "colab": {
          "base_uri": "https://localhost:8080/"
        },
        "id": "WxRQjSNDmQD0",
        "outputId": "6fbbb5f8-3292-42b8-8dfb-e4478a6ef5fe"
      },
      "execution_count": 8,
      "outputs": [
        {
          "output_type": "stream",
          "name": "stdout",
          "text": [
            "Manager     Manager - A  Manager - B  Manager - C\n",
            "Region                                           \n",
            "Region - A            4            3            3\n",
            "Region - B            4            1            2\n",
            "Region - C            1            3            1\n"
          ]
        }
      ]
    },
    {
      "cell_type": "markdown",
      "source": [
        "\n",
        "\n",
        "---\n",
        "\n",
        "\n",
        "\n",
        "---\n",
        "\n"
      ],
      "metadata": {
        "id": "d4BB9KA_mnax"
      }
    }
  ]
}